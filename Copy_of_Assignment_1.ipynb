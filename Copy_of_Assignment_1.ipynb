{
  "nbformat": 4,
  "nbformat_minor": 0,
  "metadata": {
    "colab": {
      "name": "Copy of Assignment 1",
      "provenance": [],
      "collapsed_sections": [],
      "include_colab_link": true
    },
    "kernelspec": {
      "name": "python3",
      "display_name": "Python 3"
    }
  },
  "cells": [
    {
      "cell_type": "markdown",
      "metadata": {
        "id": "view-in-github",
        "colab_type": "text"
      },
      "source": [
        "<a href=\"https://colab.research.google.com/github/Ardra123/Class-Assignment-1---Getting-Started-with-Python-Programming/blob/master/Copy_of_Assignment_1.ipynb\" target=\"_parent\"><img src=\"https://colab.research.google.com/assets/colab-badge.svg\" alt=\"Open In Colab\"/></a>"
      ]
    },
    {
      "cell_type": "markdown",
      "metadata": {
        "id": "wUCWKcfuLIFV",
        "colab_type": "text"
      },
      "source": [
        "Question 2"
      ]
    },
    {
      "cell_type": "code",
      "metadata": {
        "id": "FlWwOJcULK_d",
        "colab_type": "code",
        "colab": {
          "base_uri": "https://localhost:8080/",
          "height": 88
        },
        "outputId": "bc4f6c9f-8253-4e11-8d55-18cc5793f13f"
      },
      "source": [
        "Name =\"Ardra C\"\n",
        "Address =\"Chalil house Peruvayal Calicut\"\n",
        "Telephone_no =\"04952492630\"\n",
        "print(\" Name:\"+Name+\"\\n\",\"Address:\"+Address+\"\\n\",\"Telephone no:\"+Telephone_no)"
      ],
      "execution_count": null,
      "outputs": [
        {
          "output_type": "stream",
          "text": [
            " Name:Ardra C\n",
            " Address:Chalil house Peruvayal Calicut\n",
            " Telephone no:04952492630\n"
          ],
          "name": "stdout"
        }
      ]
    },
    {
      "cell_type": "markdown",
      "metadata": {
        "id": "0Xjx0hxmP752",
        "colab_type": "text"
      },
      "source": [
        "Question 3"
      ]
    },
    {
      "cell_type": "code",
      "metadata": {
        "id": "JWnna_GZP-NE",
        "colab_type": "code",
        "colab": {
          "base_uri": "https://localhost:8080/",
          "height": 34
        },
        "outputId": "d70630d9-12ae-4fdd-c306-56fddb50a031"
      },
      "source": [
        "print(\"Your name is\",name)\n",
        "name=\"Ardra\""
      ],
      "execution_count": null,
      "outputs": [
        {
          "output_type": "stream",
          "text": [
            "Your name is Ardra C\n"
          ],
          "name": "stdout"
        }
      ]
    },
    {
      "cell_type": "markdown",
      "metadata": {
        "id": "q6a1xTOITt8G",
        "colab_type": "text"
      },
      "source": [
        "Question 4"
      ]
    },
    {
      "cell_type": "code",
      "metadata": {
        "id": "AoEAjUPLTwsw",
        "colab_type": "code",
        "colab": {
          "base_uri": "https://localhost:8080/",
          "height": 68
        },
        "outputId": "50386bed-703e-4a88-8029-ea39a24fccc6"
      },
      "source": [
        "#area of a rectangle \n",
        "Width = float(input(\"Enter the width: \")) \n",
        "Height = float(input(\"Enter the height: \")) \n",
        "area =Width * Height\n",
        "print(\"The area is\",area, \"Square units\")"
      ],
      "execution_count": null,
      "outputs": [
        {
          "output_type": "stream",
          "text": [
            "Enter the width: 3\n",
            "Enter the height: 8\n",
            "The area is 24.0 Square units\n"
          ],
          "name": "stdout"
        }
      ]
    },
    {
      "cell_type": "markdown",
      "metadata": {
        "id": "u1mp0byQYWnA",
        "colab_type": "text"
      },
      "source": [
        "Question 5"
      ]
    },
    {
      "cell_type": "code",
      "metadata": {
        "id": "qs4KUyDdYaX_",
        "colab_type": "code",
        "colab": {
          "base_uri": "https://localhost:8080/",
          "height": 68
        },
        "outputId": "b75118e1-30d8-4952-ad15-c2d26191e793"
      },
      "source": [
        "#area of a triangle \n",
        "Base= float(input(\"Enter the base: \"))\n",
        "Height= float(input(\"Enter the height: \")) \n",
        "area = .5*Base*Height\n",
        "print(\"The area is\",area, \"square units\")"
      ],
      "execution_count": null,
      "outputs": [
        {
          "output_type": "stream",
          "text": [
            "Enter the base: 2\n",
            "Enter the height: 7\n",
            "The area is 7.0 square units\n"
          ],
          "name": "stdout"
        }
      ]
    },
    {
      "cell_type": "markdown",
      "metadata": {
        "id": "hytZ27j7aKCq",
        "colab_type": "text"
      },
      "source": [
        "Question 6"
      ]
    },
    {
      "cell_type": "code",
      "metadata": {
        "id": "ViO5-IqtaLlG",
        "colab_type": "code",
        "colab": {
          "base_uri": "https://localhost:8080/",
          "height": 71
        },
        "outputId": "0e057c0f-eb06-46e5-dc82-29f30bf90629"
      },
      "source": [
        "#area of a circle\n",
        "radius = float(input(\"Enter the radius: \")) \n",
        "area = 3.14*radius**2\n",
        "print(\"The area is\", area, \"square units\")"
      ],
      "execution_count": null,
      "outputs": [
        {
          "output_type": "stream",
          "text": [
            "Enter the radius: 23\n",
            "The area is 1661.0600000000002 square units\n"
          ],
          "name": "stdout"
        }
      ]
    },
    {
      "cell_type": "markdown",
      "metadata": {
        "id": "3QVG4MDjcRA2",
        "colab_type": "text"
      },
      "source": [
        "Question 7"
      ]
    },
    {
      "cell_type": "code",
      "metadata": {
        "id": "G6tQdrPJcSb2",
        "colab_type": "code",
        "colab": {
          "base_uri": "https://localhost:8080/",
          "height": 88
        },
        "outputId": "dba153b4-887d-4c25-d168-1fda6d80ebb6"
      },
      "source": [
        "Name = input(\"Enter your name: \") \n",
        "Age =input(\"Enter your age: \") \n",
        "print(\"My name is \"+Name+\" and my age is \"+Age)"
      ],
      "execution_count": null,
      "outputs": [
        {
          "output_type": "stream",
          "text": [
            "Enter your name: Ardra \n",
            "Enter your age: 19\n",
            "My name is Ardra  and my age is 19\n"
          ],
          "name": "stdout"
        }
      ]
    },
    {
      "cell_type": "markdown",
      "metadata": {
        "id": "Fpi4MVLMeTuj",
        "colab_type": "text"
      },
      "source": [
        "Question 8"
      ]
    },
    {
      "cell_type": "code",
      "metadata": {
        "id": "eMV_6n2ueVzG",
        "colab_type": "code",
        "colab": {
          "base_uri": "https://localhost:8080/",
          "height": 51
        },
        "outputId": "5c3afee7-9d44-41fa-9814-907d6d7556f0"
      },
      "source": [
        "a= float(input(\"Enter a number: \")) \n",
        "a=a+1\n",
        "print(a)"
      ],
      "execution_count": null,
      "outputs": [
        {
          "output_type": "stream",
          "text": [
            "Enter a number: 6\n",
            "7.0\n"
          ],
          "name": "stdout"
        }
      ]
    },
    {
      "cell_type": "markdown",
      "metadata": {
        "id": "q6Rd7fRlgV-5",
        "colab_type": "text"
      },
      "source": [
        "Question 9"
      ]
    },
    {
      "cell_type": "code",
      "metadata": {
        "id": "BP4xfadHgZdQ",
        "colab_type": "code",
        "colab": {
          "base_uri": "https://localhost:8080/",
          "height": 51
        },
        "outputId": "033dd0b6-4eaa-48e1-98b5-df96cc57aabe"
      },
      "source": [
        "Name = input(\"Enter your first name: \") \n",
        "print(Name)"
      ],
      "execution_count": null,
      "outputs": [
        {
          "output_type": "stream",
          "text": [
            "Enter your first name: Ardra\n",
            "Ardra\n"
          ],
          "name": "stdout"
        }
      ]
    },
    {
      "cell_type": "code",
      "metadata": {
        "id": "3z7t3_BQhL-M",
        "colab_type": "code",
        "colab": {
          "base_uri": "https://localhost:8080/",
          "height": 52
        },
        "outputId": "474f5e4c-c271-40cd-f2bf-ad317566d7ac"
      },
      "source": [
        "input(\"Enter your first name: \")"
      ],
      "execution_count": null,
      "outputs": [
        {
          "output_type": "stream",
          "text": [
            "Enter your first name: Ardra\n"
          ],
          "name": "stdout"
        },
        {
          "output_type": "execute_result",
          "data": {
            "application/vnd.google.colaboratory.intrinsic+json": {
              "type": "string"
            },
            "text/plain": [
              "'Ardra'"
            ]
          },
          "metadata": {
            "tags": []
          },
          "execution_count": 27
        }
      ]
    }
  ]
}