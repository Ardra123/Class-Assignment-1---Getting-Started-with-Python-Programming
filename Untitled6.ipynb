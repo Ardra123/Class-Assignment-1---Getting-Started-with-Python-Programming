{
  "nbformat": 4,
  "nbformat_minor": 0,
  "metadata": {
    "colab": {
      "name": "Untitled6.ipynb",
      "provenance": [],
      "authorship_tag": "ABX9TyOCeV6UnewYJj0taI+wDQNS",
      "include_colab_link": true
    },
    "kernelspec": {
      "name": "python3",
      "display_name": "Python 3"
    }
  },
  "cells": [
    {
      "cell_type": "markdown",
      "metadata": {
        "id": "view-in-github",
        "colab_type": "text"
      },
      "source": [
        "<a href=\"https://colab.research.google.com/github/Ardra123/Class-Assignment-1---Getting-Started-with-Python-Programming/blob/master/Untitled6.ipynb\" target=\"_parent\"><img src=\"https://colab.research.google.com/assets/colab-badge.svg\" alt=\"Open In Colab\"/></a>"
      ]
    },
    {
      "cell_type": "code",
      "metadata": {
        "id": "kU5AVMDXoGZ7"
      },
      "source": [
        "2. from math import pi \n",
        "r=float(input(\"Enter Radius\"))\n",
        "def volume(r):\n",
        "   return 4.0/3.0*pi* r**3\n",
        " \n",
        "print(\"volume= \",volume(r))"
      ],
      "execution_count": null,
      "outputs": []
    },
    {
      "cell_type": "markdown",
      "metadata": {
        "id": "bmpYN7hhqDDc"
      },
      "source": [
        ""
      ]
    },
    {
      "cell_type": "code",
      "metadata": {
        "id": "24pX8A4sqD7_"
      },
      "source": [
        "3.  n=10sum=0\n",
        "for num in range(0,n+1,1):\n",
        "sum=sum+num\n",
        "while(num>0):\n",
        "sum+=num\n",
        "num-=1\n",
        "print(\"The sum is\",sum)"
      ],
      "execution_count": null,
      "outputs": []
    },
    {
      "cell_type": "markdown",
      "metadata": {
        "id": "xMAxyPR1qG4Y"
      },
      "source": [
        ""
      ]
    },
    {
      "cell_type": "code",
      "metadata": {
        "id": "VE_QeZCCqHPO"
      },
      "source": [
        "6 b)\n",
        "def recur_factorial(n):\n",
        "if n=1:\n",
        "return n\n",
        "else:\n",
        "return n* recur_factorial(n-1)\n",
        "num=int(input(\"enter a number:\"))\n",
        "if num<0:\n",
        "Print(\"no factorial for negative number \")\n",
        "elif num==0\n",
        "print(\"the factorial is 1\")\n",
        "else:\n",
        "print(\"the factorial of \",nun,\"=\",recur_factorial(num))"
      ],
      "execution_count": null,
      "outputs": []
    },
    {
      "cell_type": "markdown",
      "metadata": {
        "id": "MQQWhKoZrQxq"
      },
      "source": [
        ""
      ]
    },
    {
      "cell_type": "code",
      "metadata": {
        "id": "EmO65wrRrRHq"
      },
      "source": [
        "6a)\n",
        "def rev_no(n):\n",
        "   n=int(input(\"Enter the no:\"))\n",
        "   rev=0\n",
        "   rem=0\n",
        "   while(n>0):\n",
        "      rem=n%10\n",
        "      rev=(rev*10)+rem\n",
        "      sum=sum+rem\n",
        "      n=n//10\n",
        "print (\"Reverse of entered no.is\",rev)\n",
        "print (\"The sum of digits: \",sum)"
      ],
      "execution_count": null,
      "outputs": []
    },
    {
      "cell_type": "markdown",
      "metadata": {
        "id": "HkMHsoiguypd"
      },
      "source": [
        ""
      ]
    },
    {
      "cell_type": "code",
      "metadata": {
        "id": "mLXvc2LbuzDO"
      },
      "source": [
        "4.\n",
        "n=int(input(\"Enter the number\"))\n",
        "square=lambda x:x**2\n",
        "print (square (n))"
      ],
      "execution_count": null,
      "outputs": []
    }
  ]
}