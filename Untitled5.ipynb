{
  "nbformat": 4,
  "nbformat_minor": 0,
  "metadata": {
    "colab": {
      "name": "Untitled5.ipynb",
      "provenance": [],
      "authorship_tag": "ABX9TyOEgUNiBLENvbGAp13wFtkp",
      "include_colab_link": true
    },
    "kernelspec": {
      "name": "python3",
      "display_name": "Python 3"
    }
  },
  "cells": [
    {
      "cell_type": "markdown",
      "metadata": {
        "id": "view-in-github",
        "colab_type": "text"
      },
      "source": [
        "<a href=\"https://colab.research.google.com/github/Ardra123/Class-Assignment-1---Getting-Started-with-Python-Programming/blob/master/Untitled5.ipynb\" target=\"_parent\"><img src=\"https://colab.research.google.com/assets/colab-badge.svg\" alt=\"Open In Colab\"/></a>"
      ]
    },
    {
      "cell_type": "code",
      "metadata": {
        "id": "mnKjb6Bbm3Qd"
      },
      "source": [
        " \n",
        "def CountLetters (str,letter):\n",
        "      count=0\n",
        "      index=0\n",
        "      while index<len(str):\n",
        "         if letter==str[index]:\n",
        "            count=count+1\n",
        "         index=index+1\n",
        "      return count"
      ],
      "execution_count": 1,
      "outputs": []
    },
    {
      "cell_type": "markdown",
      "metadata": {
        "id": "dFMeRv8cnUZN"
      },
      "source": [
        " In 9"
      ]
    },
    {
      "cell_type": "code",
      "metadata": {
        "id": "H5s64isnnerA",
        "outputId": "984f2fce-08a4-432c-d8e9-ef32819107bd",
        "colab": {
          "base_uri": "https://localhost:8080/",
          "height": 34
        }
      },
      "source": [
        "CountLetters(\"Mango\",\"n\")"
      ],
      "execution_count": 2,
      "outputs": [
        {
          "output_type": "execute_result",
          "data": {
            "text/plain": [
              "1"
            ]
          },
          "metadata": {
            "tags": []
          },
          "execution_count": 2
        }
      ]
    },
    {
      "cell_type": "markdown",
      "metadata": {
        "id": "jIFvzz8Rn8mD"
      },
      "source": [
        "In 10"
      ]
    },
    {
      "cell_type": "code",
      "metadata": {
        "id": "19w9pWkcn-rN",
        "outputId": "8efe356b-7436-438a-de38-33c7964a4a5a",
        "colab": {
          "base_uri": "https://localhost:8080/",
          "height": 34
        }
      },
      "source": [
        "CountLetters(\"Ardra\",\"r\")"
      ],
      "execution_count": 3,
      "outputs": [
        {
          "output_type": "execute_result",
          "data": {
            "text/plain": [
              "2"
            ]
          },
          "metadata": {
            "tags": []
          },
          "execution_count": 3
        }
      ]
    },
    {
      "cell_type": "markdown",
      "metadata": {
        "id": "EwteJRNqom_1"
      },
      "source": [
        "2"
      ]
    },
    {
      "cell_type": "markdown",
      "metadata": {
        "id": "6LlYGvhjoobp"
      },
      "source": [
        ""
      ]
    },
    {
      "cell_type": "code",
      "metadata": {
        "id": "zFxdaZkQorsA"
      },
      "source": [
        " \n",
        "def find(str, ch, index):\n",
        "  #\n",
        "  while index<len(str):\n",
        "    if str[index]== ch:\n",
        "     return index \n",
        "    index = index +1\n",
        "  return -1"
      ],
      "execution_count": 4,
      "outputs": []
    },
    {
      "cell_type": "markdown",
      "metadata": {
        "id": "JeKsi8MopC9t"
      },
      "source": [
        "Ln 13"
      ]
    },
    {
      "cell_type": "code",
      "metadata": {
        "id": "p85DQU1NpSpE",
        "outputId": "6051c921-7098-48c5-acaf-ff045ad1954c",
        "colab": {
          "base_uri": "https://localhost:8080/",
          "height": 34
        }
      },
      "source": [
        "find('Mango','m',1)"
      ],
      "execution_count": 6,
      "outputs": [
        {
          "output_type": "execute_result",
          "data": {
            "text/plain": [
              "-1"
            ]
          },
          "metadata": {
            "tags": []
          },
          "execution_count": 6
        }
      ]
    },
    {
      "cell_type": "markdown",
      "metadata": {
        "id": "yv6NR0n8pgiq"
      },
      "source": [
        " In 15"
      ]
    },
    {
      "cell_type": "code",
      "metadata": {
        "id": "d__dyNjIpkUP",
        "outputId": "035e7e9c-6a83-4784-cf11-10b22c94ca10",
        "colab": {
          "base_uri": "https://localhost:8080/",
          "height": 34
        }
      },
      "source": [
        "find('Meat','m',1)"
      ],
      "execution_count": 7,
      "outputs": [
        {
          "output_type": "execute_result",
          "data": {
            "text/plain": [
              "-1"
            ]
          },
          "metadata": {
            "tags": []
          },
          "execution_count": 7
        }
      ]
    }
  ]
}